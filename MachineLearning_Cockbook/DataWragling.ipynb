{
 "cells": [
  {
   "cell_type": "markdown",
   "metadata": {},
   "source": [
    "Navigating DataFrames"
   ]
  },
  {
   "cell_type": "code",
   "execution_count": 1,
   "metadata": {},
   "outputs": [
    {
     "ename": "SyntaxError",
     "evalue": "invalid syntax (Temp/ipykernel_17132/233650619.py, line 2)",
     "output_type": "error",
     "traceback": [
      "\u001b[1;36m  File \u001b[1;32m\"C:\\Users\\ASUS~1\\AppData\\Local\\Temp/ipykernel_17132/233650619.py\"\u001b[1;36m, line \u001b[1;32m2\u001b[0m\n\u001b[1;33m    url = = 'https://tinyurl.com//titanic-csv'\u001b[0m\n\u001b[1;37m          ^\u001b[0m\n\u001b[1;31mSyntaxError\u001b[0m\u001b[1;31m:\u001b[0m invalid syntax\n"
     ]
    }
   ],
   "source": [
    "import pandas as pd\n",
    "url = = 'https://tinyurl.com//titanic-csv'\n",
    "dataframe = pd.read_csv(url)"
   ]
  }
 ],
 "metadata": {
  "kernelspec": {
   "display_name": "Python 3.10.0 64-bit",
   "language": "python",
   "name": "python3"
  },
  "language_info": {
   "codemirror_mode": {
    "name": "ipython",
    "version": 3
   },
   "file_extension": ".py",
   "mimetype": "text/x-python",
   "name": "python",
   "nbconvert_exporter": "python",
   "pygments_lexer": "ipython3",
   "version": "3.10.0"
  },
  "orig_nbformat": 4,
  "vscode": {
   "interpreter": {
    "hash": "68ef5886dc0915938d6a35456ea8775afce48d9f374f32ed0ffd620d09a1db6b"
   }
  }
 },
 "nbformat": 4,
 "nbformat_minor": 2
}
