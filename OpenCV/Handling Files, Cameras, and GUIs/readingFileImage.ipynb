{
 "cells": [
  {
   "cell_type": "code",
   "execution_count": 75,
   "metadata": {},
   "outputs": [],
   "source": [
    "import cv2, os\n",
    "import numpy as np\n",
    "import pandas as pd"
   ]
  },
  {
   "cell_type": "code",
   "execution_count": 76,
   "metadata": {},
   "outputs": [
    {
     "data": {
      "text/plain": [
       "53.371065046296295"
      ]
     },
     "execution_count": 76,
     "metadata": {},
     "output_type": "execute_result"
    }
   ],
   "source": [
    "path = r'paper.png'\n",
    "filename = 'paper.png'\n",
    "image = cv2.imread(path)\n",
    "cv2.imwrite(filename, image)\n",
    "np.mean(image)"
   ]
  },
  {
   "cell_type": "markdown",
   "metadata": {},
   "source": [
    " 24-bit BGR image is a 3D array, also containing byte values"
   ]
  },
  {
   "cell_type": "code",
   "execution_count": 63,
   "metadata": {},
   "outputs": [
    {
     "data": {
      "text/plain": [
       "3"
      ]
     },
     "execution_count": 63,
     "metadata": {},
     "output_type": "execute_result"
    }
   ],
   "source": [
    "image.ndim"
   ]
  },
  {
   "cell_type": "code",
   "execution_count": 80,
   "metadata": {},
   "outputs": [
    {
     "data": {
      "text/plain": [
       "53.371065046296295"
      ]
     },
     "execution_count": 80,
     "metadata": {},
     "output_type": "execute_result"
    }
   ],
   "source": [
    "grayImage = cv2.imread(filename, cv2.COLOR_BGR2GRAY)\n",
    "cv2.imwrite('GrayImageBGR.png', grayImage)\n",
    "np.mean(grayImage)"
   ]
  },
  {
   "cell_type": "code",
   "execution_count": 81,
   "metadata": {},
   "outputs": [
    {
     "data": {
      "text/plain": [
       "True"
      ]
     },
     "execution_count": 81,
     "metadata": {},
     "output_type": "execute_result"
    }
   ],
   "source": [
    "#Make array of 120,000 random bytes\n",
    "randomByteArray = bytearray(os.urandom(120000))\n",
    "flatNumpyArray = np.array(randomByteArray)\n",
    "\n",
    "#convert the array to make a 400x300 grayscale image. this 2D-Array with 8 bit\n",
    "grayImage = flatNumpyArray.reshape(400, 300)\n",
    "cv2.imwrite('RandomGray.png', grayImage)"
   ]
  },
  {
   "cell_type": "code",
   "execution_count": 82,
   "metadata": {},
   "outputs": [
    {
     "data": {
      "text/plain": [
       "True"
      ]
     },
     "execution_count": 82,
     "metadata": {},
     "output_type": "execute_result"
    }
   ],
   "source": [
    "# Convert the array to make a 400x100 color image.\n",
    "bgrImage = flatNumpyArray.reshape(100, 400, 3)\n",
    "cv2.imwrite('RandomColor.png', bgrImage)"
   ]
  },
  {
   "cell_type": "code",
   "execution_count": 72,
   "metadata": {},
   "outputs": [
    {
     "data": {
      "text/plain": [
       "(400, 300)"
      ]
     },
     "execution_count": 72,
     "metadata": {},
     "output_type": "execute_result"
    }
   ],
   "source": [
    "grayImage.shape"
   ]
  }
 ],
 "metadata": {
  "kernelspec": {
   "display_name": "Python 3.10.0 64-bit",
   "language": "python",
   "name": "python3"
  },
  "language_info": {
   "codemirror_mode": {
    "name": "ipython",
    "version": 3
   },
   "file_extension": ".py",
   "mimetype": "text/x-python",
   "name": "python",
   "nbconvert_exporter": "python",
   "pygments_lexer": "ipython3",
   "version": "3.10.0"
  },
  "orig_nbformat": 4,
  "vscode": {
   "interpreter": {
    "hash": "68ef5886dc0915938d6a35456ea8775afce48d9f374f32ed0ffd620d09a1db6b"
   }
  }
 },
 "nbformat": 4,
 "nbformat_minor": 2
}
